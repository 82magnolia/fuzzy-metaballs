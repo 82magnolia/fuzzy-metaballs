{
 "cells": [
  {
   "cell_type": "markdown",
   "metadata": {},
   "source": [
    "# Run CO3D Sequence for Shape from Silhouette"
   ]
  },
  {
   "cell_type": "code",
   "execution_count": null,
   "metadata": {},
   "outputs": [],
   "source": [
    "import sys, os\n",
    "import numpy as np\n",
    "import pandas as pd"
   ]
  },
  {
   "cell_type": "code",
   "execution_count": null,
   "metadata": {},
   "outputs": [],
   "source": [
    "data_dir = 'data'\n",
    "type_f = 'teddybear'\n",
    "co3d_seq = '379_44778_89217'\n",
    "output_folder = type_f+'_'+co3d_seq\n",
    "co3d_seq_folder = os.path.join(data_dir,type_f,co3d_seq)"
   ]
  },
  {
   "cell_type": "code",
   "execution_count": null,
   "metadata": {},
   "outputs": [],
   "source": [
    "df = pd.read_json(os.path.join(data_dir,type_f,'frame_annotations.jgz'),compression={'method':'gzip'})"
   ]
  },
  {
   "cell_type": "markdown",
   "metadata": {},
   "source": [
    "## Load Data"
   ]
  },
  {
   "cell_type": "code",
   "execution_count": null,
   "metadata": {},
   "outputs": [],
   "source": [
    "NUM_MIXTURE = 40\n",
    "SCALE = 4"
   ]
  },
  {
   "cell_type": "code",
   "execution_count": null,
   "metadata": {},
   "outputs": [],
   "source": [
    "import skimage.io as io\n",
    "import matplotlib.pyplot as plt\n",
    "import transforms3d \n",
    "import skimage.transform as sktrans\n",
    "df2 = df[df.sequence_name == int(co3d_seq.replace('_',''))]\n",
    "\n",
    "images = []\n",
    "masks = []\n",
    "rotations = []\n",
    "rotation_mats = []\n",
    "translations = []\n",
    "fls = []\n",
    "pps = []\n",
    "sizes = []\n",
    "ground_truths = []\n",
    "crays_set = []\n",
    "ground_images = []\n",
    "for row in  df2.sort_values('frame_number').itertuples():\n",
    "    fn, imgd, maskd, view = row[2],row[4],row[6],row[7]\n",
    "    maskd = maskd['path'][maskd['path'].index(co3d_seq):]\n",
    "    imgd = imgd['path'][imgd['path'].index(co3d_seq):]\n",
    "    \n",
    "    Rmat = np.array(view['R'])\n",
    "    Tvec = np.array(view['T'])\n",
    "    Tvec = -Rmat @ Tvec\n",
    "    img = io.imread(os.path.join(data_dir,type_f,imgd))\n",
    "    mask = io.imread(os.path.join(data_dir,type_f,maskd))\n",
    "    images.append(img)\n",
    "    masks.append(mask)\n",
    "    v,s = transforms3d.axangles.mat2axangle(Rmat)\n",
    "    rotations.append(v*s)\n",
    "    rotation_mats.append(Rmat)\n",
    "    translations.append(Tvec)\n",
    "    \n",
    "    fl = np.array(view['focal_length'])\n",
    "    pp = np.array(view['principal_point'])\n",
    "    \n",
    "    half_image_size_wh_orig = np.array(list(reversed(mask.shape))) / 2.0\n",
    "    # principal point and focal length in pixels\n",
    "    principal_point_px = (\n",
    "        -1.0 * (pp - 1.0) * half_image_size_wh_orig\n",
    "    )\n",
    "    focal_length_px = fl * half_image_size_wh_orig\n",
    "\n",
    "    fls.append(focal_length_px)\n",
    "    pps.append(principal_point_px)\n",
    "    \n",
    "    \n",
    "    sizeA = np.array(mask.shape)\n",
    "    PX,PY = reversed(sizeA)\n",
    "    FLX, FLY = focal_length_px\n",
    "    CX,CY = principal_point_px\n",
    "    #print(PX,PY,FLX,FLY,CX,CY)\n",
    "    \n",
    "    PY = PY//SCALE\n",
    "    PX = PX//SCALE\n",
    "    sizes.append((PX,PY))\n",
    "\n",
    "    cx = CX/SCALE\n",
    "    cy = CY/SCALE\n",
    "    fx = FLX/SCALE\n",
    "    fy = FLY/SCALE\n",
    "    K = np.array([[fx, 0, cx],[0,fy,cy],[0,0,1]])\n",
    "    pixel_list = (np.array(np.meshgrid(PX-np.arange(PX)-1,PY-np.arange(PY)-1,[0]))[:,:,:,0]).reshape((3,-1)).T\n",
    "\n",
    "    camera_rays = (pixel_list - K[:,2])/np.diag(K)\n",
    "    camera_rays[:,-1] = 1\n",
    "    crays_set.append(camera_rays)\n",
    "    ground_truths.append(sktrans.resize(mask,(PY,PX)))\n",
    "    ground_images.append(sktrans.resize(img,(PY,PX)))"
   ]
  },
  {
   "cell_type": "code",
   "execution_count": null,
   "metadata": {},
   "outputs": [],
   "source": [
    "SCALE_MUL_FACTOR = 2.7/np.linalg.norm(translations,axis=1).mean()\n",
    "# gradients can be sensitive to scale"
   ]
  },
  {
   "cell_type": "code",
   "execution_count": null,
   "metadata": {},
   "outputs": [],
   "source": [
    "# get a rough init to make sure everything loaded right\n",
    "import trimesh\n",
    "pt_cld = trimesh.load(os.path.join(co3d_seq_folder,'pointcloud.ply')).vertices\n",
    "import sklearn.mixture as mixture\n",
    "\n",
    "idx2 = np.arange(pt_cld.shape[0])\n",
    "np.random.shuffle(idx2)\n",
    "clf = mixture.GaussianMixture(40)\n",
    "clf.fit(pt_cld[idx2[:10000]])\n",
    "\n",
    "obj_scale_true = (clf.weights_[:,None] * clf.means_).std(0).mean()"
   ]
  },
  {
   "cell_type": "code",
   "execution_count": null,
   "metadata": {},
   "outputs": [],
   "source": [
    "import os\n",
    "os.environ[\"XLA_PYTHON_CLIENT_PREALLOCATE\"] = \"false\"\n",
    "\n",
    "import jax\n",
    "#jax.config.update('jax_platform_name', 'cpu')\n",
    "\n",
    "import jax.numpy as jnp\n",
    "import fm_render\n",
    "\n",
    "hyperparams = fm_render.hyperparams_models\n",
    "\n",
    "beta2 = jnp.float32(np.exp(hyperparams[0]))\n",
    "beta3 = jnp.float32(np.exp(hyperparams[1]))\n",
    "beta4 = jnp.float32(np.exp(hyperparams[2]))\n",
    "beta5 = -jnp.float32(np.exp(hyperparams[3]))\n",
    "\n",
    "render_jit = jax.jit(fm_render.render_func)\n",
    "obj_scale = obj_scale_true # more reliable than using pose data for a prior"
   ]
  },
  {
   "cell_type": "code",
   "execution_count": null,
   "metadata": {},
   "outputs": [],
   "source": [
    "# test render\n",
    "means, prec, weights =  [jnp.array(_) for _ in [clf.means_, clf.precisions_cholesky_, clf.weights_]]\n",
    "weights_log = jnp.log(weights+1e-6)\n",
    "\n",
    "test_alphas = []\n",
    "for i in range(len(rotations)):\n",
    "    axangl = rotations[i]\n",
    "    trans = translations[i]\n",
    "    camera_rays = crays_set[i]\n",
    "    PX,PY = sizes[i]\n",
    "    res_img,res_p,est_alpha = render_jit(means,prec,weights_log,camera_rays,axangl,trans,beta2/obj_scale_true,beta3,beta4,beta5)\n",
    "\n",
    "    res_imgA = np.array(res_img)\n",
    "    res_imgA[est_alpha < 0.5] = np.nan\n",
    "    test_alphas.append(est_alpha.reshape((PY,PX)))"
   ]
  },
  {
   "cell_type": "code",
   "execution_count": null,
   "metadata": {},
   "outputs": [],
   "source": [
    "import matplotlib.pyplot as plt\n",
    "from util import image_grid\n",
    "image_grid(test_alphas,8,9,rgb=False)"
   ]
  },
  {
   "cell_type": "code",
   "execution_count": null,
   "metadata": {},
   "outputs": [],
   "source": [
    "# random init settings\n",
    "\n",
    "init_scale = 0.25\n",
    "\n",
    "rand_sphere_size = 30.0*init_scale # inverse size\n",
    "rand_sphere_var = 0.012/init_scale # actual distribution\n",
    "clip_d = 2.0\n",
    "scale_mul = 0.5\n",
    "weight_eps = 0.3\n",
    "prec_eps = 0.02\n",
    "\n",
    "# there are all unscaled, 0 mean, standard size, etc.\n",
    "rand_mean_base = np.random.multivariate_normal(mean=[0,0,0],cov=np.identity(3),size=NUM_MIXTURE)\n",
    "clipped_mean_base = (np.minimum(clip_d,np.linalg.norm((rand_mean_base),axis=1))/np.linalg.norm((rand_mean_base),axis=1))[:,None] * rand_mean_base\n",
    "rand_prec_base = np.array([np.identity(3) for _ in range(NUM_MIXTURE)])\n",
    "\n",
    "# these get shifted to the problem at hand\n",
    "rand_mean = np.mean(pt_cld.astype(float),0) + np.sqrt(rand_sphere_var)*clipped_mean_base\n",
    "rand_weight_log = np.log(( np.ones(NUM_MIXTURE) + np.maximum(-0.99,weight_eps*np.random.randn(NUM_MIXTURE)) )/NUM_MIXTURE) \n",
    "rand_prec = rand_sphere_size*(rand_prec_base  + np.maximum(-0.99,prec_eps*np.random.randn(*rand_prec_base.shape)))\n",
    "\n",
    "\n",
    "init_alphas = []\n",
    "for i in range(len(rotations)):\n",
    "    axangl = rotations[i]\n",
    "    trans = translations[i]\n",
    "    camera_rays = crays_set[i]\n",
    "    PX,PY = sizes[i]\n",
    "    res_img,res_p,est_alpha = render_jit(rand_mean,rand_prec,rand_weight_log,camera_rays,axangl,trans,beta2/obj_scale_true,beta3,beta4,beta5)\n",
    "\n",
    "    res_imgA = np.array(res_img)\n",
    "    res_imgA[est_alpha < 0.5] = np.nan\n",
    "    init_alphas.append(est_alpha.reshape((PY,PX)))\n",
    "image_grid(init_alphas,6,6,rgb=False)"
   ]
  },
  {
   "cell_type": "code",
   "execution_count": null,
   "metadata": {},
   "outputs": [],
   "source": [
    "total_ray_set = []\n",
    "for i in range(len(rotations)):\n",
    "    rmat = rotation_mats[i]\n",
    "    trans = translations[i]\n",
    "    camera_rays = crays_set[i]\n",
    "    camera_rays = camera_rays @ np.array(rmat).T\n",
    "    trans = np.tile(trans[None],(camera_rays.shape[0],1))\n",
    "    \n",
    "    rays_trans = np.stack([camera_rays,trans],1)\n",
    "    total_ray_set.append(np.array(rays_trans))"
   ]
  },
  {
   "cell_type": "code",
   "execution_count": null,
   "metadata": {},
   "outputs": [],
   "source": [
    "all_rays = jnp.vstack(total_ray_set)"
   ]
  },
  {
   "cell_type": "code",
   "execution_count": null,
   "metadata": {},
   "outputs": [],
   "source": [
    "render_jit_ray = jax.jit(fm_render.render_func_rays)\n",
    "last_img_size = sizes[-1][0]*sizes[-1][1]\n",
    "res_img,res_p,est_alpha = render_jit_ray(means,prec,weights_log,all_rays[-last_img_size:],beta2/obj_scale_true,beta3,beta4,beta5)"
   ]
  },
  {
   "cell_type": "code",
   "execution_count": null,
   "metadata": {},
   "outputs": [],
   "source": [
    "plt.subplot(1,2,1)\n",
    "plt.imshow(est_alpha.reshape((sizes[-1][1],sizes[-1][0])))\n",
    "plt.subplot(1,2,2)\n",
    "plt.imshow(ground_truths[-1])"
   ]
  },
  {
   "cell_type": "code",
   "execution_count": null,
   "metadata": {},
   "outputs": [],
   "source": [
    "def objective(params,camera_rays,beta2,beta3,beta4,beta5,true_alpha):\n",
    "    CLIP_ALPHA = 1e-6\n",
    "    means,prec,weights_log = params\n",
    "    render_res = fm_render.render_func_rays(means,prec,weights_log,camera_rays,beta2,beta3,beta4,beta5)\n",
    "\n",
    "    est_alpha = render_res[2]\n",
    "    est_alpha = jnp.clip(est_alpha,CLIP_ALPHA,1-CLIP_ALPHA)\n",
    "    mask_loss = - ((true_alpha * jnp.log(est_alpha)) + (1-true_alpha)*jnp.log(1-est_alpha))\n",
    "    return mask_loss.mean()\n",
    "grad_render3 = jax.value_and_grad(objective)"
   ]
  },
  {
   "cell_type": "code",
   "execution_count": null,
   "metadata": {},
   "outputs": [],
   "source": [
    "from jax.example_libraries import optimizers\n",
    "from tqdm.notebook import tqdm\n",
    "from util import DegradeLR\n",
    "\n",
    "Nepoch = 10\n",
    "batch_size = 24000\n",
    "OPT_SCALE = SCALE_MUL_FACTOR\n",
    "\n",
    "vecM = jnp.array([[1,1,1],[OPT_SCALE,OPT_SCALE,OPT_SCALE]])[None]\n",
    "\n",
    "train_size = all_rays.shape[0]\n",
    "Niter_epoch = int(round(train_size/batch_size))\n",
    "\n",
    "def irc(x): return int(round(x))\n",
    "\n",
    "# babysit learning rates\n",
    "adjust_lr = DegradeLR(1e-1,0.5,irc(Niter_epoch*0.25),irc(Niter_epoch*0.1),-1e-4)\n",
    "\n",
    "opt_init, opt_update, opt_params = optimizers.adam(adjust_lr.step_func)\n",
    "tmp = [rand_mean,rand_prec,rand_weight_log]\n",
    "opt_state = opt_init(tmp)\n",
    "\n",
    "all_sils = jnp.hstack([_.ravel() for _ in ground_truths]).astype(jnp.float32)\n",
    "\n",
    "losses = []\n",
    "opt_configs = []\n",
    "outer_loop = tqdm(range(Nepoch), desc=\" epoch\", position=0)\n",
    "\n",
    "rand_idx = np.arange(train_size)\n",
    "\n",
    "def inner_iter(j_idx,rand_idx_local,opt_state):\n",
    "    idx = jax.lax.dynamic_slice(rand_idx_local,[j_idx*batch_size],[batch_size])\n",
    "\n",
    "    p = opt_params(opt_state)\n",
    "    val,g = grad_render3([p[0]*OPT_SCALE,p[1]/OPT_SCALE,p[2]],vecM*all_rays[idx],beta2/(OPT_SCALE*obj_scale),beta3,beta4,beta5,all_sils[idx])   \n",
    "    opt_state = opt_update(i, g, opt_state)\n",
    "    return val, opt_state\n",
    "jax_iter = jax.jit(inner_iter)\n",
    "done = False\n",
    "for i in outer_loop:\n",
    "    np.random.shuffle(rand_idx)\n",
    "    rand_idx_jnp = jnp.array(rand_idx)\n",
    "\n",
    "    for j in tqdm(range(Niter_epoch), desc=\" iteration\", position=1, leave=False):\n",
    "        opt_configs.append(list(opt_params(opt_state)))\n",
    "        val,opt_state = jax_iter(j,rand_idx_jnp,opt_state)\n",
    "        val = float(val)\n",
    "        losses.append(val)\n",
    "\n",
    "        if adjust_lr.add(val):\n",
    "            done = True\n",
    "            break\n",
    "        outer_loop.set_description(\" loss {:.3f}\".format(val))\n",
    "    if done:\n",
    "        break"
   ]
  },
  {
   "cell_type": "code",
   "execution_count": null,
   "metadata": {},
   "outputs": [],
   "source": [
    "plt.plot(losses)"
   ]
  },
  {
   "cell_type": "code",
   "execution_count": null,
   "metadata": {},
   "outputs": [],
   "source": [
    "final_mean, final_prec, final_weight_log = opt_params(opt_state)"
   ]
  },
  {
   "cell_type": "code",
   "execution_count": null,
   "metadata": {},
   "outputs": [],
   "source": [
    "result_alphas = []\n",
    "for i in range(len(rotations)):\n",
    "    axangl = rotations[i]\n",
    "    trans = translations[i]\n",
    "    camera_rays = crays_set[i]\n",
    "    PX,PY = sizes[i]\n",
    "    res_img,res_p,est_alpha = render_jit(final_mean*OPT_SCALE,final_prec/OPT_SCALE,final_weight_log,camera_rays,axangl,trans*OPT_SCALE,beta2/(OPT_SCALE*obj_scale),beta3,beta4,beta5)\n",
    "\n",
    "    res_imgA = np.array(res_img)\n",
    "    res_imgA[est_alpha < 0.5] = np.nan\n",
    "    result_alphas.append(est_alpha.reshape((PY,PX)))"
   ]
  },
  {
   "cell_type": "code",
   "execution_count": null,
   "metadata": {},
   "outputs": [],
   "source": [
    "plt.subplot(1,2,1)\n",
    "plt.imshow(result_alphas[-1])\n",
    "plt.subplot(1,2,2)\n",
    "plt.imshow(res_imgA.reshape((PY,PX)))\n",
    "plt.colorbar()"
   ]
  },
  {
   "cell_type": "code",
   "execution_count": null,
   "metadata": {},
   "outputs": [],
   "source": [
    "image_grid(result_alphas,rows=3,cols=5,rgb=False)"
   ]
  },
  {
   "cell_type": "code",
   "execution_count": null,
   "metadata": {},
   "outputs": [],
   "source": [
    "image_grid(ground_truths,rows=3,cols=5,rgb=False)"
   ]
  },
  {
   "cell_type": "code",
   "execution_count": null,
   "metadata": {},
   "outputs": [],
   "source": [
    "max_frame = len(rotations)\n",
    "FWD_BCK_TIMES = 4\n",
    "THRESH_IDX = np.where(np.array(losses)/min(losses) < 1.1)[0][0]\n",
    "USE_FIRST_N_FRAC = THRESH_IDX/len(losses)\n",
    "N_FRAMES = max_frame*FWD_BCK_TIMES\n",
    "opt_to_use = np.round(np.linspace(0,int(np.floor(len(opt_configs)*USE_FIRST_N_FRAC-1)),N_FRAMES)).astype(int)"
   ]
  },
  {
   "cell_type": "code",
   "execution_count": null,
   "metadata": {},
   "outputs": [],
   "source": [
    "THRESH_IDX/len(losses)"
   ]
  },
  {
   "cell_type": "code",
   "execution_count": null,
   "metadata": {},
   "outputs": [],
   "source": [
    "plt.plot(losses[:THRESH_IDX])"
   ]
  },
  {
   "cell_type": "code",
   "execution_count": null,
   "metadata": {},
   "outputs": [],
   "source": [
    "frame_idxs = []\n",
    "frame_list = list(range(max_frame))\n",
    "for i in range(FWD_BCK_TIMES):\n",
    "    if (i % 2) == 0:\n",
    "        frame_idxs += frame_list\n",
    "    else:\n",
    "        frame_idxs += frame_list[::-1]"
   ]
  },
  {
   "cell_type": "code",
   "execution_count": null,
   "metadata": {},
   "outputs": [],
   "source": [
    "full_res_alpha = []\n",
    "full_res_depth = []\n",
    "for r_idx,c_idx in zip(frame_idxs,opt_to_use):\n",
    "    p = opt_configs[c_idx]\n",
    "\n",
    "    axangl = rotations[r_idx]\n",
    "    trans = translations[r_idx]\n",
    "    camera_rays_F = crays_set[r_idx]\n",
    "    PX_F,PY_F = sizes[r_idx]\n",
    "\n",
    "    est_depth,res_p,est_alpha = render_jit(OPT_SCALE*p[0],p[1]/OPT_SCALE,p[2],camera_rays_F,axangl,OPT_SCALE*trans,beta2/(OPT_SCALE*obj_scale),beta3,beta4,beta5)\n",
    "    est_alpha = np.array(est_alpha)\n",
    "    est_depth = np.array(est_depth)\n",
    "\n",
    "    est_depth[est_alpha < 0.5] = np.nan\n",
    "    full_res_alpha.append(est_alpha.reshape((PY_F,PX_F)))\n",
    "    full_res_depth.append(est_depth.reshape((PY_F,PX_F)))\n",
    "    print('.',end='')"
   ]
  },
  {
   "cell_type": "code",
   "execution_count": null,
   "metadata": {},
   "outputs": [],
   "source": [
    "if os.path.exists(output_folder):\n",
    "    import shutil\n",
    "    shutil.rmtree(output_folder)\n",
    "os.mkdir(output_folder)"
   ]
  },
  {
   "cell_type": "code",
   "execution_count": null,
   "metadata": {},
   "outputs": [],
   "source": [
    "vecr = np.hstack([_.ravel() for _ in full_res_depth])\n",
    "vecr = vecr[~np.isnan(vecr)]\n",
    "vmin = np.percentile(vecr,5)\n",
    "vmax = np.percentile(vecr,95)\n",
    "vscale = vmax-vmin"
   ]
  },
  {
   "cell_type": "code",
   "execution_count": null,
   "metadata": {},
   "outputs": [],
   "source": [
    "import matplotlib\n",
    "from PIL import Image, ImageDraw, ImageFont\n",
    "start_f = 0\n",
    "avg_size = np.mean(sizes,axis=0)\n",
    "fsize = irc(96/SCALE)\n",
    "\n",
    "font = ImageFont.truetype('Roboto-Regular.ttf', size=irc(96/SCALE))\n",
    "cmap = matplotlib.cm.get_cmap('viridis')\n",
    "cmap2 = matplotlib.cm.get_cmap('magma')\n",
    "\n",
    "for i,mask_res in enumerate(full_res_alpha):\n",
    "    r_idx = frame_idxs[i]\n",
    "    #img1 = ground_images[r_idx]/255.0*np.clip(full_masks[r_idx] > .1,0.3,1)[:,:,None]\n",
    "    #img2 = ground_images[r_idx]*np.clip((mask_res)**0.4,0.05,1)[:,:,None]\n",
    "    img2 = np.tile(mask_res[:,:,None],(1,1,3))\n",
    "    img_gt_mask = np.tile(ground_truths[r_idx][:,:,None],(1,1,3))\n",
    "\n",
    "    true_alpha = ground_truths[r_idx]\n",
    "\n",
    "    est_alpha = jnp.clip(mask_res,1e-6,1-1e-6)\n",
    "    mask_loss = - ((true_alpha * jnp.log(est_alpha)) + (1-true_alpha)*jnp.log(1-est_alpha))\n",
    "    loss_viz = cmap2(0.25*mask_loss)[:,:,:3]\n",
    "\n",
    "    depth = cmap((full_res_depth[i]-vmin)/vscale)[:,:,:3]\n",
    "    img2 = np.concatenate((ground_images[r_idx],img_gt_mask,loss_viz,img2, depth), axis=1)\n",
    "    int_img = np.round(img2*255).astype(np.uint8)\n",
    "    pil_img = Image.fromarray(int_img)\n",
    "    d1 = ImageDraw.Draw(pil_img)\n",
    "    d1.text((avg_size[0]*1.1, irc(fsize*0.1)), \"Iteration: {:3d}\".format(opt_to_use[i]), ha='center',font=font,fill=(255, 255, 255))\n",
    "    d1.text((avg_size[0]*1.3, irc(avg_size[1]-fsize*1.5)), \"Target Mask\", font=font,fill=(255, 255, 255),ha='center')\n",
    "    d1.text((avg_size[0]*2.4, irc(avg_size[1]-fsize*1.5)), \"Loss\", font=font,fill=(255, 255, 255),ha='center',align='center')\n",
    "    d1.text((avg_size[0]*3.3, irc(avg_size[1]-fsize*2.5)), \"Estimated\\nMask\", font=font,fill=(255, 255, 255),ha='center',align='center')\n",
    "    d1.text((avg_size[0]*4.3, irc(avg_size[1]-fsize*2.5)), \"Estimated\\nDepth\", font=font,fill=(255, 255, 255),ha='center',align='center')\n",
    "\n",
    "    img3 = np.array(pil_img)\n",
    "    \n",
    "    io.imsave('{}/{:03d}.jpg'.format(output_folder,i),img3,quality=95)"
   ]
  },
  {
   "cell_type": "code",
   "execution_count": null,
   "metadata": {},
   "outputs": [],
   "source": [
    "plt.figure(figsize=(18,8))\n",
    "plt.imshow(img3)\n",
    "plt.axis('off')"
   ]
  },
  {
   "cell_type": "code",
   "execution_count": null,
   "metadata": {},
   "outputs": [],
   "source": [
    "import subprocess\n",
    "if os.path.exists('{}.mp4'.format(output_folder)):\n",
    "    os.remove('{}.mp4'.format(output_folder))\n",
    "subprocess.call(' '.join(['/usr/local/bin/ffmpeg',\n",
    "                 '-framerate','24',\n",
    "                 '-i','{}/%03d.jpg'.format(output_folder),\n",
    "                 '-vf','\\\"pad=ceil(iw/2)*2:ceil(ih/2)*2\\\"',\n",
    "                 '-c:v','h264',\n",
    "                 '-pix_fmt','yuv420p',\n",
    "                 '{}.mp4'.format(output_folder)]),shell=True)"
   ]
  }
 ],
 "metadata": {
  "language_info": {
   "name": "python"
  }
 },
 "nbformat": 4,
 "nbformat_minor": 5
}
